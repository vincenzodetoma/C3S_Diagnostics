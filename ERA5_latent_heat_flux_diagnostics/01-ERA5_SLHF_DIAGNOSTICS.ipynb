{
 "cells": [
  {
   "cell_type": "markdown",
   "id": "ae8bf7b2",
   "metadata": {},
   "source": [
    "## ADAPTED APPLICATION TEMPLATE ERA5 - LATENT HEAT FLUXES\n",
    "\n",
    "Package c3s_eqc_automatic_quality_control (https://github.com/bopen/c3s-eqc-automatic-quality-control).\n",
    "This notebook is a first test for the implementation on the following diagnostics on the \n",
    "latent heat flux:\n",
    "- Climatology Maps for the variable;\n",
    "- Time Series of Globally Averaged variable;\n",
    "As initial test to carry out the diagnostic proposed in the deliverable submitted on September 2022 C3S2_D520.5.1.6_202209_Consolidated_diagnostics_reanalysis_v1 \n",
    "Which can be found in the +Atlantic Teams folder \n",
    "WP5 EQC of Reanalysis, Satellite and In-situ Obsv > 1_Deliverables > 09_2022 > 2_Submitted\n",
    "\n",
    "We begin by importing the necessary modules and ignore the warnings:"
   ]
  },
  {
   "cell_type": "code",
   "execution_count": null,
   "id": "e2ad236a",
   "metadata": {},
   "outputs": [],
   "source": [
    "import warnings\n",
    "\n",
    "import cads_toolbox\n",
    "import pandas as pd\n",
    "import plotly.express as px\n",
    "import xarray as xr\n",
    "from c3s_eqc_automatic_quality_control import diagnostics, download\n",
    "\n",
    "warnings.filterwarnings(\"ignore\")"
   ]
  },
  {
   "cell_type": "markdown",
   "id": "cda420f4",
   "metadata": {},
   "source": [
    "#### REQUEST DEFINITION"
   ]
  },
  {
   "cell_type": "markdown",
   "id": "29a64fdc",
   "metadata": {},
   "source": [
    "For request definition we use **`c3s_eqc_toolbox_template.update_request_date`**.\n",
    "\n",
    "It allows to generate the requests for a given period `[start, stop]` if stop is `None` then compute the stop month as follows:\n",
    "if `current day > switch_month_day`: then `stop_month = current_month - 1`\n",
    "else `stop_month = current_month - 2`\n",
    "\n",
    "Returns the request or the list of requests for the input period."
   ]
  },
  {
   "cell_type": "markdown",
   "id": "e4c6c63a",
   "metadata": {},
   "source": [
    "APPLICATION SUMMARY:\n",
    "\n",
    "- Data requests definition\n",
    "\n",
    "- Processing:\n",
    "\n",
    "  - chunked download\n",
    "  - apply transformation to each chunk\n",
    "  - cache the result on each chunk\n",
    "  - merge all the chunks\n",
    "\n",
    "- Plot the result"
   ]
  },
  {
   "cell_type": "code",
   "execution_count": null,
   "id": "b85e649b",
   "metadata": {},
   "outputs": [],
   "source": [
    "collection_id = 'reanalysis-era5-single-levels-monthly-means'\n",
    "\n",
    "request = {\n",
    "    'variable': 'surface_latent_heat_flux',\n",
    "    'year': [\n",
    "        '1959', '1960', '1961',\n",
    "        '1962', '1963', '1964',\n",
    "        '1965', '1966', '1967',\n",
    "        '1968', '1969', '1970',\n",
    "        '1971', '1972', '1973',\n",
    "        '1974', '1975', '1976',\n",
    "        '1977', '1978', '1979',\n",
    "        '1980', '1981', '1982',\n",
    "        '1983', '1984', '1985',\n",
    "        '1986', '1987', '1988',\n",
    "        '1989', '1990', '1991',\n",
    "        '1992', '1993', '1994',\n",
    "        '1995', '1996', '1997',\n",
    "        '1998', '1999', '2000',\n",
    "        '2001', '2002', '2003',\n",
    "        '2004', '2005', '2006',\n",
    "        '2007', '2008', '2009',\n",
    "        '2010', '2011', '2012',\n",
    "        '2013', '2014', '2015',\n",
    "        '2016', '2017', '2018',\n",
    "        '2019', '2020', '2021',\n",
    "        '2022',\n",
    "    ],\n",
    "    'month': [\n",
    "        '01', '02', '03',\n",
    "        '04', '05', '06',\n",
    "        '07', '08', '09',\n",
    "        '10', '11', '12',\n",
    "    ],\n",
    "    'time': '00:00',\n",
    "    'product_type': 'monthly_averaged_reanalysis',\n",
    "}\n",
    "start = \"1959-01\"\n",
    "stop = \"2021-12\"  # \"2022-06\""
   ]
  },
  {
   "cell_type": "markdown",
   "id": "dd6444bd",
   "metadata": {},
   "source": [
    "Here we update the request accorfing to a start and a stop date"
   ]
  },
  {
   "cell_type": "code",
   "execution_count": null,
   "id": "9bac51ad",
   "metadata": {},
   "outputs": [],
   "source": [
    "requests = download.update_request_date(\n",
    "    request, start=start, stop=stop\n",
    ")\n",
    "requests"
   ]
  },
  {
   "cell_type": "markdown",
   "id": "d751e0a0",
   "metadata": {},
   "source": [
    "We define our functions:\n",
    "- an identity, to return the data just as it is (testing);\n",
    "- a function which does a spatial weighted mean and resample our data into monthly mean temporal resolution;\n",
    "- a function to calculate the average on each month in the dataset, i.e. a climatology function;\n",
    "- a function which combines the two above to get the globally averaged climatology time series;"
   ]
  },
  {
   "cell_type": "code",
   "execution_count": null,
   "id": "231a6d2e",
   "metadata": {},
   "outputs": [],
   "source": [
    "def identity(ds: xr.Dataset) -> xr.Dataset:\n",
    "    return ds\n",
    "def spatial_monthly_mean(ds: xr.Dataset) -> xr.Dataset:\n",
    "    ds = diagnostics.spatial_weighted_mean(ds)\n",
    "    return ds.resample(time=\"1M\").mean(\"time\")\n",
    "def monthly_climatology(ds: xr.Dataset) -> xr.Dataset:\n",
    "    ds_month = ds.groupby('time.month').mean('time')\n",
    "    return ds_month\n",
    "def spatial_mean_climatology(ds:xr.Dataset) -> xr.Dataset:\n",
    "    ds_spat_aggr = spatial_monthly_mean(ds)\n",
    "    ds_spmean_monthlyclim = monthly_climatology(ds_spat_aggr)"
   ]
  },
  {
   "cell_type": "markdown",
   "id": "dcf105d9",
   "metadata": {},
   "source": [
    "We set up the option to store the result of our downloading and chunking into the cache locally:"
   ]
  },
  {
   "cell_type": "code",
   "execution_count": null,
   "id": "d5a60b98",
   "metadata": {},
   "outputs": [],
   "source": [
    "cads_toolbox.config.USE_CACHE = True"
   ]
  },
  {
   "cell_type": "code",
   "execution_count": null,
   "id": "52b2c6a2",
   "metadata": {},
   "outputs": [],
   "source": [
    "chunks={'year':7}\n",
    "monthly_slhf_maps_jm2 = download.download_and_transform(\n",
    "    collection_id,\n",
    "    requests,\n",
    "    chunks=chunks,\n",
    "    transform_func=monthly_climatology,\n",
    "    concat_dim='time',\n",
    "    combine='nested'\n",
    ")\n",
    "monthly_slhf_map_Wm2 = monthly_slhf_maps_jm2.mean('time')/86400"
   ]
  },
  {
   "cell_type": "markdown",
   "id": "0e00209b",
   "metadata": {},
   "source": [
    "We have now the climatology maps.\n",
    "\n",
    "We just need to define the spatial mean function without any resampling operation to calculate from the climatology maps the globally averaged timeseries for the climatology. "
   ]
  },
  {
   "cell_type": "code",
   "execution_count": null,
   "id": "fd4beb63",
   "metadata": {},
   "outputs": [],
   "source": [
    "def spatial_mean(ds: xr.Dataset) -> xr.Dataset:\n",
    "    ds = diagnostics.spatial_weighted_mean(ds)\n",
    "    return ds\n",
    "monthly_global_slhf_ts = spatial_mean(monthly_slhf_map_Wm2)"
   ]
  },
  {
   "cell_type": "markdown",
   "id": "6e7df77a",
   "metadata": {},
   "source": [
    "#### Plot result"
   ]
  },
  {
   "cell_type": "code",
   "execution_count": null,
   "id": "93acfc6a",
   "metadata": {},
   "outputs": [],
   "source": [
    "monthly_global_slhf_ts = monthly_global_slhf_ts.squeeze()\n",
    "fig = px.line(\n",
    "    x=monthly_global_slhf_ts[\"month\"],\n",
    "    y=monthly_global_slhf_ts[\"slhf\"],\n",
    ")\n",
    "fig.update_layout(\n",
    "    xaxis_title=r\"$\\mbox{Time [months]}$\",\n",
    "    yaxis_title=r\"$\\mbox{Surface Latent Heat Flux}~[W/m^2]$\",\n",
    "    title=r\"GLOBAL MEAN MONTHLY CLIMATOLOGY SLHF 1959-2021\",\n",
    ")\n",
    "fig.show()"
   ]
  },
  {
   "cell_type": "code",
   "execution_count": null,
   "id": "7744f417",
   "metadata": {},
   "outputs": [],
   "source": [
    "fig.write_image(\"ERA5_globalmean_monthly_climatology_slhf_1950-2021.png\")"
   ]
  },
  {
   "cell_type": "markdown",
   "id": "d0f77c6d",
   "metadata": {},
   "source": [
    "#### Now we plot the monthly climatology maps \n",
    "We define in \"var\" the variable to plot, and plot each month of the climatology with its contours:"
   ]
  },
  {
   "cell_type": "code",
   "execution_count": null,
   "id": "c267d1b0",
   "metadata": {},
   "outputs": [],
   "source": [
    "var = monthly_slhf_map_Wm2['slhf'].squeeze()\n",
    "m = int((var.min()/10).round(2))*10\n",
    "M = int((var.max()/10).round(2))*10\n",
    "print(m, M)"
   ]
  },
  {
   "cell_type": "code",
   "execution_count": null,
   "id": "488ba159",
   "metadata": {},
   "outputs": [],
   "source": [
    "import plotly.graph_objects as go\n",
    "months = ['Jan', 'Feb', 'Mar', 'Apr', 'May', 'Jun', 'Jul', 'Aug', 'Sep', 'Oct', 'Nov', 'Dec']\n",
    "for i in range(len(var.month)):\n",
    "    fig = go.Figure(data =\n",
    "                    go.Contour(\n",
    "                        x = var.longitude,\n",
    "                        y = var.latitude,\n",
    "                        z = var.isel(month=i).values,\n",
    "                        colorscale='YlGnBu_r',\n",
    "                        colorbar=dict(\n",
    "                            title='W/m^2', # title here\n",
    "                            titleside='right',\n",
    "                            titlefont=dict(\n",
    "                                size=14,\n",
    "                                family='Arial, sans-serif')\n",
    "                        ),\n",
    "                        contours=dict(\n",
    "                            start=m,\n",
    "                            end=M,\n",
    "                            size=30,\n",
    "    )))\n",
    "    fig.update_layout(\n",
    "        title={\n",
    "            'text': r'SLHF '+months[i]+' Climatology 1959-2021',\n",
    "            'y':0.9,\n",
    "            'x':0.5,\n",
    "            'xanchor': 'center',\n",
    "            'yanchor': 'top'},\n",
    "        xaxis_title='longitude [degrees_east]',\n",
    "        yaxis_title='latitude [degrees_north]',\n",
    "    )\n",
    "    fig.write_image('ERA5_climatology_map_slhf_1959-2021_'+months[i]+'.png')\n",
    "    fig.show()"
   ]
  },
  {
   "cell_type": "code",
   "execution_count": null,
   "id": "a84e009b",
   "metadata": {},
   "outputs": [],
   "source": []
  }
 ],
 "metadata": {
  "kernelspec": {
   "display_name": "Python 3 (ipykernel)",
   "language": "python",
   "name": "python3"
  },
  "language_info": {
   "codemirror_mode": {
    "name": "ipython",
    "version": 3
   },
   "file_extension": ".py",
   "mimetype": "text/x-python",
   "name": "python",
   "nbconvert_exporter": "python",
   "pygments_lexer": "ipython3",
   "version": "3.10.6"
  },
  "vscode": {
   "interpreter": {
    "hash": "729d4203989e46368114bc0e0241f9687d8ba807583b0ce0814f678ddcc4eabd"
   }
  }
 },
 "nbformat": 4,
 "nbformat_minor": 5
}
