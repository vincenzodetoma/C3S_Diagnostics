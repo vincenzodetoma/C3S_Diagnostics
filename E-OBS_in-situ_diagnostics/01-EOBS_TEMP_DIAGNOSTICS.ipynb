{
 "cells": [
  {
   "cell_type": "markdown",
   "metadata": {},
   "source": [
    "## ADAPTED APPLICATION TEMPLATE E-OBS - IN-SITU AIR TEMPERATURE\n",
    "\n",
    "Package c3s_eqc_automatic_quality_control (https://github.com/bopen/c3s-eqc-automatic-quality-control).\n",
    "This notebook is a first test for the implementation on the following diagnostics on the \n",
    "E-Obs in-situ gridded dataset, chosing as variable of interest Air Temperature:\n",
    "- Climatology Maps for the variable;\n",
    "- Time Series of Globally Averaged variable;\n",
    "As initial test to carry out the diagnostic proposed in the deliverable submitted on September 2022  C3S2_D520.5.1.6_202209_Consolidated_diagnostics_in-situ_v1 \n",
    "Which can be found in the +Atlantic Teams folder \n",
    "WP5 EQC of Reanalysis, Satellite and In-situ Obsv > 1_Deliverables > 09_2022 > 2_Submitted\n",
    "\n",
    "First we load the necessary modules and set up the option to load in the cache the transformed data:"
   ]
  },
  {
   "cell_type": "code",
   "execution_count": null,
   "metadata": {},
   "outputs": [],
   "source": [
    "import warnings\n",
    "import plotly.express as px\n",
    "import xarray as xr\n",
    "import cads_toolbox\n",
    "\n",
    "from c3s_eqc_automatic_quality_control import diagnostics, download, plot\n",
    "\n",
    "warnings.filterwarnings(\"ignore\")\n",
    "cads_toolbox.config.USE_CACHE = True"
   ]
  },
  {
   "cell_type": "markdown",
   "metadata": {},
   "source": [
    "Then, we create our request to download data and perform our analyses"
   ]
  },
  {
   "cell_type": "code",
   "execution_count": null,
   "metadata": {},
   "outputs": [],
   "source": [
    "collection_id = \"insitu-gridded-observations-europe\"\n",
    "request = {\n",
    "    \"product_type\": \"ensemble_mean\",\n",
    "    \"variable\": \"mean_temperature\",\n",
    "    \"grid_resolution\": \"0.25deg\",\n",
    "    \"period\": [\"1950_1964\", \"1965_1979\", \"1980_1994\", \"1995_2010\", \"2011_2021\"],\n",
    "    \"version\": \"25.0e\",\n",
    "    \"format\": \"zip\",\n",
    "}\n",
    "request"
   ]
  },
  {
   "cell_type": "markdown",
   "metadata": {},
   "source": [
    "We define:\n",
    "- an identity function to download data as it is without performing any operation.\n",
    "- A function to calculate the spatial mean and aggregate the data into a monthly mean temporal resolution;\n",
    "- A function to get the monthly climatology from a dataset;"
   ]
  },
  {
   "cell_type": "code",
   "execution_count": null,
   "metadata": {},
   "outputs": [],
   "source": [
    "def identity(ds: xr.Dataset) -> xr.Dataset:\n",
    "    return ds\n",
    "def spatial_monthly_mean(ds: xr.Dataset) -> xr.Dataset:\n",
    "    ds = diagnostics.spatial_weighted_mean(ds)\n",
    "    return ds.resample(time=\"1M\").mean(\"time\")\n",
    "def monthly_climatology(ds: xr.Dataset) -> xr.Dataset:\n",
    "    ds_month = ds.groupby('time.month').mean('time')\n",
    "    return ds_month"
   ]
  },
  {
   "cell_type": "markdown",
   "metadata": {},
   "source": [
    "Now we retrieve the twelve climatology maps downloading and transforming our raw data from the Climate and Atmosphere Data Store (CADS in short). Since the result of such operation will be splitted in chunks which contain respectively one of the items in the list given to the \"period\" keyword in the request of above, we'll need to apply the mean over the dimension 'time' to get just a single climatology field composed of 12 snapshot, each for one month of the dataset:"
   ]
  },
  {
   "cell_type": "code",
   "execution_count": null,
   "metadata": {},
   "outputs": [],
   "source": [
    "monthlyclim_temp_maps = download.download_and_transform(\n",
    "    collection_id,\n",
    "    request,\n",
    "    transform_func=monthly_climatology,\n",
    "    split_all=True,\n",
    "    concat_dim='time',\n",
    "    combine='nested'\n",
    ")\n",
    "monthlyclim_temp_map = monthlyclim_temp_maps.mean('time')"
   ]
  },
  {
   "cell_type": "markdown",
   "metadata": {},
   "source": [
    "Now we re-define a spatial mean function which does not involve any resampling of the data, to get the climatology of the timeseries of globally averaged temperature field:"
   ]
  },
  {
   "cell_type": "code",
   "execution_count": null,
   "metadata": {},
   "outputs": [],
   "source": [
    "def spatial_mean(ds: xr.Dataset) -> xr.Dataset:\n",
    "    ds = diagnostics.spatial_weighted_mean(ds)\n",
    "    return ds\n",
    "monthly_global_temp_ts = spatial_mean(monthlyclim_temp_map)\n",
    "monthly_global_temp_ts"
   ]
  },
  {
   "cell_type": "markdown",
   "metadata": {},
   "source": [
    "We then just call the function in plotly.express to plot the result of the above operation, storing the image into a file of a given name."
   ]
  },
  {
   "cell_type": "code",
   "execution_count": null,
   "metadata": {
    "scrolled": true
   },
   "outputs": [],
   "source": [
    "fig = px.line(\n",
    "    x=monthly_global_temp_ts[\"month\"],\n",
    "    y=monthly_global_temp_ts[\"tg\"],\n",
    ")\n",
    "fig.update_layout(\n",
    "    xaxis_title=r\"$\\mbox{Time [months]}$\",\n",
    "    yaxis_title=r\"$\\mbox{Temperature}~[^oC]$\",\n",
    "    title=\"GLOBAL MEAN MONTHLY CLIMATOLOGY TEMPERATURE 1950-2021\",\n",
    ")\n",
    "fig.show()"
   ]
  },
  {
   "cell_type": "code",
   "execution_count": null,
   "metadata": {},
   "outputs": [],
   "source": [
    "fig.write_image('E-Obs_spavg_monthlyclim_1950-2021.png')"
   ]
  },
  {
   "cell_type": "markdown",
   "metadata": {},
   "source": [
    "### Now the monthly climatology maps\n",
    "We now create a variable var to plot the climatology maps, in such a way that it will be possible to create a function to plot spatial maps which will eventually be inserted in the plotting methods of the automatic quality check package or the toolbox itself:"
   ]
  },
  {
   "cell_type": "code",
   "execution_count": null,
   "metadata": {},
   "outputs": [],
   "source": [
    "clim_ds = monthlyclim_temp_map\n",
    "var = clim_ds['tg']\n",
    "m = int((var.min()/10).round(2))*10\n",
    "M = int((var.max()/10).round(2))*10\n",
    "print(m, M)\n",
    "var"
   ]
  },
  {
   "cell_type": "markdown",
   "metadata": {},
   "source": [
    "We create an interactive map with plotly to have contour plots for each month of our climatology:"
   ]
  },
  {
   "cell_type": "code",
   "execution_count": null,
   "metadata": {},
   "outputs": [],
   "source": [
    "import plotly.graph_objects as go\n",
    "months = ['Jan', 'Feb', 'Mar', 'Apr', 'May', 'Jun', 'Jul', 'Aug', 'Sep', 'Oct', 'Nov', 'Dec']\n",
    "i=0\n",
    "for i in range(len(var.month)):\n",
    "    fig = go.Figure(data =\n",
    "                    go.Contour(\n",
    "                        x = var.longitude,\n",
    "                        y = var.latitude,\n",
    "                        z = var.isel(month=i).values,\n",
    "                        colorscale='jet',\n",
    "                        colorbar=dict(\n",
    "                            title='°C', # title here\n",
    "                            titleside='right',\n",
    "                            titlefont=dict(\n",
    "                                size=14,\n",
    "                                family='Arial, sans-serif')\n",
    "                        ),\n",
    "                        contours=dict(\n",
    "                            start=m,\n",
    "                            end=M,\n",
    "                            size=1,\n",
    "    )))\n",
    "    fig.update_layout(\n",
    "        title={\n",
    "            'text': r'TEMPERATURE '+months[i]+' Climatology 1950-2021',\n",
    "            'y':0.9,\n",
    "            'x':0.5,\n",
    "            'xanchor': 'center',\n",
    "            'yanchor': 'top'},\n",
    "        xaxis_title='longitude [degrees_east]',\n",
    "        yaxis_title='latitude [degrees_north]',\n",
    "    )\n",
    "    fig.write_image('E-OBS_climatology_map_temp_1950-2021_'+months[i]+'.png')\n",
    "    fig.show()"
   ]
  }
 ],
 "metadata": {
  "kernelspec": {
   "display_name": "Python 3 (ipykernel)",
   "language": "python",
   "name": "python3"
  },
  "language_info": {
   "codemirror_mode": {
    "name": "ipython",
    "version": 3
   },
   "file_extension": ".py",
   "mimetype": "text/x-python",
   "name": "python",
   "nbconvert_exporter": "python",
   "pygments_lexer": "ipython3",
   "version": "3.10.6"
  },
  "vscode": {
   "interpreter": {
    "hash": "39a16a1176456aec0710d6d8dd097fdfd8eece03838aebbaaddfca0f16ac2477"
   }
  }
 },
 "nbformat": 4,
 "nbformat_minor": 2
}
